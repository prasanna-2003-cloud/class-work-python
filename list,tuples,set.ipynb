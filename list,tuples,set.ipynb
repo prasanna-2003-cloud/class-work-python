{
 "cells": [
  {
   "cell_type": "code",
   "execution_count": 1,
   "id": "a8d55acd-b9e7-48fd-b449-b1b05cbf73d7",
   "metadata": {},
   "outputs": [
    {
     "name": "stdout",
     "output_type": "stream",
     "text": [
      "[1, 3, 4, 5]\n"
     ]
    }
   ],
   "source": [
    "#lists........... they are used in[] ......... they are mutable..... ordered\n",
    "'''pop ----- deletes by index , remove----- deletes by the value, append------ adds an value '''\n",
    "k=[1,2,3,4,5]\n",
    "k.pop(1)\n",
    "print (k)\n",
    "\n"
   ]
  },
  {
   "cell_type": "code",
   "execution_count": 2,
   "id": "e6b79e93-7439-45f8-9039-435c1191d4a2",
   "metadata": {},
   "outputs": [
    {
     "name": "stdout",
     "output_type": "stream",
     "text": [
      "[1, 3, 4, 5]\n"
     ]
    }
   ],
   "source": [
    "k=[1,2,3,4,5]\n",
    "k.remove (2)\n",
    "print (k)"
   ]
  },
  {
   "cell_type": "code",
   "execution_count": 4,
   "id": "f0fa3b47-2c4f-4973-9701-0e09a6fc2be5",
   "metadata": {},
   "outputs": [
    {
     "name": "stdout",
     "output_type": "stream",
     "text": [
      "[1, 2, 3, 4, 5, 10]\n"
     ]
    }
   ],
   "source": [
    "k=[1,2,3,4,5]\n",
    "k.append(10)\n",
    "print (k)"
   ]
  },
  {
   "cell_type": "code",
   "execution_count": 6,
   "id": "f58fb79b-3b28-4b2f-b983-10c59da28275",
   "metadata": {},
   "outputs": [
    {
     "name": "stdout",
     "output_type": "stream",
     "text": [
      "[1, 2, [3, 8], 3, 4, 5]\n"
     ]
    }
   ],
   "source": [
    "k=[1,2,[7,8],3,4,5]\n",
    "k[2][0]=3\n",
    "print (k)"
   ]
  },
  {
   "cell_type": "code",
   "execution_count": 8,
   "id": "77c330c9-f0f3-4a28-899e-464b7981443f",
   "metadata": {},
   "outputs": [
    {
     "name": "stdout",
     "output_type": "stream",
     "text": [
      "[1, 2, [7, 8], 3, 5]\n"
     ]
    }
   ],
   "source": [
    "# to find imdex value\n",
    "k=[1,2,[7,8],3,4,5]\n",
    "i=k.index(4)\n",
    "k.remove(i)\n",
    "print (k)"
   ]
  },
  {
   "cell_type": "code",
   "execution_count": 12,
   "id": "9b1e3c55-7b96-4459-9dc9-94d6a282ec8c",
   "metadata": {},
   "outputs": [
    {
     "name": "stdout",
     "output_type": "stream",
     "text": [
      "(1, 2, 3, 4, 6)\n"
     ]
    }
   ],
   "source": [
    "# tuples ........ these are immutables ........ they use () \n",
    "k=(1,2,3,4)\n",
    "l=list(k)\n",
    "l.append(6)\n",
    "k=tuple(l)\n",
    "print(k)\n",
    "\n"
   ]
  },
  {
   "cell_type": "code",
   "execution_count": 13,
   "id": "0c914598-d0f6-4913-9d42-c420f144f31d",
   "metadata": {},
   "outputs": [
    {
     "name": "stdout",
     "output_type": "stream",
     "text": [
      "{1, 3}\n"
     ]
    }
   ],
   "source": [
    "# sets ....... unnordered ..... they dont allow duplicates ...... and they uses {}\n",
    "s={1,1,1,3}\n",
    "print (s)"
   ]
  },
  {
   "cell_type": "code",
   "execution_count": null,
   "id": "5fadac7d-54db-4834-aa7c-45fe9b5c7c17",
   "metadata": {},
   "outputs": [],
   "source": []
  }
 ],
 "metadata": {
  "kernelspec": {
   "display_name": "Python 3 (ipykernel)",
   "language": "python",
   "name": "python3"
  },
  "language_info": {
   "codemirror_mode": {
    "name": "ipython",
    "version": 3
   },
   "file_extension": ".py",
   "mimetype": "text/x-python",
   "name": "python",
   "nbconvert_exporter": "python",
   "pygments_lexer": "ipython3",
   "version": "3.13.5"
  }
 },
 "nbformat": 4,
 "nbformat_minor": 5
}
